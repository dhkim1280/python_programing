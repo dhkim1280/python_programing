{
  "nbformat": 4,
  "nbformat_minor": 0,
  "metadata": {
    "colab": {
      "provenance": [],
      "authorship_tag": "ABX9TyPsWC4bv2p1jj9EC3ZlL5Ii",
      "include_colab_link": true
    },
    "kernelspec": {
      "name": "python3",
      "display_name": "Python 3"
    },
    "language_info": {
      "name": "python"
    }
  },
  "cells": [
    {
      "cell_type": "markdown",
      "metadata": {
        "id": "view-in-github",
        "colab_type": "text"
      },
      "source": [
        "<a href=\"https://colab.research.google.com/github/dhkim1280/python_programing/blob/main/%EC%A4%91%EA%B0%84_%EA%B3%A0%EC%82%AC_MOT%EC%84%9D%EC%82%AC%EA%B3%BC%EC%A0%95_%EA%B9%80%EB%8F%99%ED%99%98_2022173064.ipynb\" target=\"_parent\"><img src=\"https://colab.research.google.com/assets/colab-badge.svg\" alt=\"Open In Colab\"/></a>"
      ]
    },
    {
      "cell_type": "markdown",
      "source": [
        "1. 키와 몸무게를 입력하면 BMI를 계산하는 프로그램을 작성하시오 (반복문을 사용해서 계속 몸무게/키를 입력받음. 종료는 -1000을 입력하면 종료하도록 함)"
      ],
      "metadata": {
        "id": "PlTlp8D-HatV"
      }
    },
    {
      "cell_type": "code",
      "source": [
        "while True:\n",
        "    height = float(input(\"키를 입력하세요 (미터 단위): \"))\n",
        "    if height == -1000:\n",
        "        break\n",
        "    weight = float(input(\"몸무게를 입력하세요 (킬로그램 단위): \"))\n",
        "    if weight == -1000:\n",
        "        break\n",
        "    bmi = weight / (height ** 2)\n",
        "    print(\"BMI는\", bmi)\n"
      ],
      "metadata": {
        "colab": {
          "base_uri": "https://localhost:8080/"
        },
        "id": "n8XR-nU8GtC9",
        "outputId": "be080e0d-6d3f-4280-bd12-c2020980a7b7"
      },
      "execution_count": null,
      "outputs": [
        {
          "name": "stdout",
          "output_type": "stream",
          "text": [
            "키를 입력하세요 (미터 단위): 171\n",
            "몸무게를 입력하세요 (킬로그램 단위): 76\n",
            "BMI는 0.002599090318388564\n",
            "키를 입력하세요 (미터 단위): -1000\n"
          ]
        }
      ]
    },
    {
      "cell_type": "markdown",
      "source": [
        "2. 숫자 2개를 입력받아서 큰수와 작은수를 차례로 출력하는 프로그램을 작성하시오 (반복문을 사용해서 계속 몸무게/키를 입력받음. 종료는  0을 두번 입력하면 종료하도록 함) "
      ],
      "metadata": {
        "id": "_GaYvR8PHSF2"
      }
    },
    {
      "cell_type": "code",
      "source": [
        "while True:\n",
        "    num1 = int(input(\"첫 번째 숫자를 입력하세요: \"))\n",
        "    if num1 == 0:\n",
        "        num2 = int(input(\"두 번째 숫자를 입력하세요: \"))\n",
        "        if num2 == 0:\n",
        "            break\n",
        "        else:\n",
        "            print(\"첫 번째 숫자를 입력하세요\")\n",
        "            continue\n",
        "    num2 = int(input(\"두 번째 숫자를 입력하세요: \"))\n",
        "    if num2 == 0:\n",
        "        print(\"두 번째 숫자를 입력하세요\")\n",
        "        continue\n",
        "    if num1 > num2:\n",
        "        print(\"큰 수:\", num1)\n",
        "        print(\"작은 수:\", num2)\n",
        "    elif num1 < num2:\n",
        "        print(\"큰 수:\", num2)\n",
        "        print(\"작은 수:\", num1)\n",
        "    else:\n",
        "        print(\"두 수가 같습니다.\")\n"
      ],
      "metadata": {
        "colab": {
          "base_uri": "https://localhost:8080/"
        },
        "id": "YRDzA3IkHqJE",
        "outputId": "e9832349-ea18-45d6-9e90-ad2cf311a7e4"
      },
      "execution_count": null,
      "outputs": [
        {
          "name": "stdout",
          "output_type": "stream",
          "text": [
            "첫 번째 숫자를 입력하세요: 11\n",
            "두 번째 숫자를 입력하세요: 22\n",
            "큰 수: 22\n",
            "작은 수: 11\n",
            "첫 번째 숫자를 입력하세요: 0\n",
            "두 번째 숫자를 입력하세요: 0\n"
          ]
        }
      ]
    },
    {
      "cell_type": "markdown",
      "source": [
        "3. 10명의 학생 이름과 점수를 입력받아 등수를 계산하고, 출력 시에는 이름, 점수를 등수 순서대로 출력하는 프로그램을 작성하시오."
      ],
      "metadata": {
        "id": "VKSS8m5vIOKM"
      }
    },
    {
      "cell_type": "code",
      "source": [
        "students = []\n",
        "for i in range(10):\n",
        "    name = input(\"학생 이름을 입력하세요: \")\n",
        "    score = int(input(\"점수를 입력하세요: \"))\n",
        "    students.append((name, score))\n",
        "\n",
        "students.sort(key=lambda x: x[1], reverse=True)\n",
        "\n",
        "for i, student in enumerate(students):\n",
        "    print(f\"{i+1}등: {student[0]} ({student[1]}점)\")\n",
        "11"
      ],
      "metadata": {
        "colab": {
          "base_uri": "https://localhost:8080/"
        },
        "id": "aKazPTdYISyN",
        "outputId": "d4821ae3-30db-43c8-af86-0b526583e5b5"
      },
      "execution_count": null,
      "outputs": [
        {
          "output_type": "stream",
          "name": "stdout",
          "text": [
            "학생 이름을 입력하세요: A\n",
            "점수를 입력하세요: 1\n",
            "학생 이름을 입력하세요: B\n",
            "점수를 입력하세요: 11\n",
            "학생 이름을 입력하세요: C\n",
            "점수를 입력하세요: 11\n",
            "학생 이름을 입력하세요: D\n",
            "점수를 입력하세요: 2\n",
            "학생 이름을 입력하세요: E\n",
            "점수를 입력하세요: 22\n",
            "학생 이름을 입력하세요: F\n",
            "점수를 입력하세요: 31\n",
            "학생 이름을 입력하세요: G\n",
            "점수를 입력하세요: 11\n",
            "학생 이름을 입력하세요: H33\n",
            "점수를 입력하세요: 33\n",
            "학생 이름을 입력하세요: I\n",
            "점수를 입력하세요: 44\n",
            "학생 이름을 입력하세요: L\n",
            "점수를 입력하세요: 33\n",
            "1등: I (44점)\n",
            "2등: H33 (33점)\n",
            "3등: L (33점)\n",
            "4등: F (31점)\n",
            "5등: E (22점)\n",
            "6등: B (11점)\n",
            "7등: C (11점)\n",
            "8등: G (11점)\n",
            "9등: D (2점)\n",
            "10등: A (1점)\n"
          ]
        },
        {
          "output_type": "execute_result",
          "data": {
            "text/plain": [
              "1"
            ]
          },
          "metadata": {},
          "execution_count": 6
        }
      ]
    }
  ]
}