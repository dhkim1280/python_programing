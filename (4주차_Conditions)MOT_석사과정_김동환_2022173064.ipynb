{
  "cells": [
    {
      "cell_type": "markdown",
      "metadata": {
        "id": "view-in-github",
        "colab_type": "text"
      },
      "source": [
        "<a href=\"https://colab.research.google.com/github/dhkim1280/python_programing/blob/main/(4%EC%A3%BC%EC%B0%A8_Conditions)MOT_%EC%84%9D%EC%82%AC%EA%B3%BC%EC%A0%95_%EA%B9%80%EB%8F%99%ED%99%98_2022173064.ipynb\" target=\"_parent\"><img src=\"https://colab.research.google.com/assets/colab-badge.svg\" alt=\"Open In Colab\"/></a>"
      ]
    },
    {
      "cell_type": "markdown",
      "id": "b5c77013",
      "metadata": {
        "id": "b5c77013"
      },
      "source": [
        "Write an if statement to determine if an album had a rating greater than 8. Test it using the rating for the album <b>“Back in Black”</b> that had a rating of 8.5. If the statement is true print \"This album is Amazing!\""
      ]
    },
    {
      "cell_type": "code",
      "execution_count": null,
      "id": "b2c68e6b",
      "metadata": {
        "id": "b2c68e6b",
        "outputId": "640b7154-1a3f-4271-ad22-7cea86dbf1a1"
      },
      "outputs": [
        {
          "name": "stdout",
          "output_type": "stream",
          "text": [
            "This album is Amazing!\n"
          ]
        }
      ],
      "source": [
        "album_rating = 8.5\n",
        "if album_rating > 8 :\n",
        "    print(\"This album is Amazing!\")"
      ]
    },
    {
      "cell_type": "markdown",
      "id": "01574d8f",
      "metadata": {
        "id": "01574d8f"
      },
      "source": [
        "Write an if-else statement that performs the following. If the rating is larger then eight print “this album is amazing”. If the rating is less than or equal to 8 print “this album is ok”."
      ]
    },
    {
      "cell_type": "code",
      "execution_count": null,
      "id": "4cfbc82f",
      "metadata": {
        "id": "4cfbc82f",
        "outputId": "a7a87084-745e-46c8-f29e-0cae148e4dfe"
      },
      "outputs": [
        {
          "name": "stdout",
          "output_type": "stream",
          "text": [
            "this album is amazing\n"
          ]
        }
      ],
      "source": [
        "if album_rating <= 8:\n",
        "    print(\"this album is ok\")\n",
        "else:\n",
        "    print(\"this album is amazing\")"
      ]
    },
    {
      "cell_type": "markdown",
      "id": "4eefd17b",
      "metadata": {
        "id": "4eefd17b"
      },
      "source": [
        "Write an if statement to determine if an album came out before 1980 or in the years: 1991 or 1993. If the condition is true print out the year the album came out."
      ]
    },
    {
      "cell_type": "code",
      "execution_count": null,
      "id": "62da6d14",
      "metadata": {
        "id": "62da6d14",
        "outputId": "690ee932-e8d0-443b-bb00-4095c4e585ef"
      },
      "outputs": [
        {
          "name": "stdout",
          "output_type": "stream",
          "text": [
            "앨범은 1979년에 나왔습니다.\n"
          ]
        }
      ],
      "source": [
        "album_year = 1979\n",
        "\n",
        "if (album_year<1980):\n",
        "     #or (album_year == 1991) or (album_year == 1993):\n",
        "    print(\"앨범은 \"+str(album_year)+\"년에 나왔습니다.\")\n",
        "elif (album_year == 1991):\n",
        "    print(\"앨범은 1991년에 나왔습니다.\")\n",
        "elif (album_year == 1993):\n",
        "    print(\"앨범은 1993년에 나왔습니다.\")\n",
        "else:\n",
        "    print(\"앨범은 \"+str(album_year)+\"년에 나왔습니다.\")\n"
      ]
    }
  ],
  "metadata": {
    "kernelspec": {
      "display_name": "Python 3 (ipykernel)",
      "language": "python",
      "name": "python3"
    },
    "language_info": {
      "codemirror_mode": {
        "name": "ipython",
        "version": 3
      },
      "file_extension": ".py",
      "mimetype": "text/x-python",
      "name": "python",
      "nbconvert_exporter": "python",
      "pygments_lexer": "ipython3",
      "version": "3.11.2"
    },
    "colab": {
      "provenance": [],
      "include_colab_link": true
    }
  },
  "nbformat": 4,
  "nbformat_minor": 5
}