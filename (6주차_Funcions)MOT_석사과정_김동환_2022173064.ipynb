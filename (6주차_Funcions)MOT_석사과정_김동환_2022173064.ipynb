{
  "cells": [
    {
      "cell_type": "markdown",
      "metadata": {
        "id": "view-in-github",
        "colab_type": "text"
      },
      "source": [
        "<a href=\"https://colab.research.google.com/github/dhkim1280/python_programing/blob/main/(6%EC%A3%BC%EC%B0%A8_Funcions)MOT_%EC%84%9D%EC%82%AC%EA%B3%BC%EC%A0%95_%EA%B9%80%EB%8F%99%ED%99%98_2022173064.ipynb\" target=\"_parent\"><img src=\"https://colab.research.google.com/assets/colab-badge.svg\" alt=\"Open In Colab\"/></a>"
      ]
    },
    {
      "cell_type": "markdown",
      "id": "f1b63379",
      "metadata": {
        "id": "f1b63379"
      },
      "source": [
        "Come up with a function that divides the first input by the second input:"
      ]
    },
    {
      "cell_type": "code",
      "execution_count": null,
      "id": "e10bd2f7",
      "metadata": {
        "id": "e10bd2f7",
        "outputId": "9378b51e-9198-4734-a1e7-818c0f08a0f2"
      },
      "outputs": [
        {
          "name": "stdout",
          "output_type": "stream",
          "text": [
            "5.0\n"
          ]
        }
      ],
      "source": [
        "def division (a = 10, b = 2):\n",
        "    return a/b\n",
        "\n",
        "print(division())"
      ]
    },
    {
      "cell_type": "markdown",
      "id": "3b6a6753",
      "metadata": {
        "id": "3b6a6753"
      },
      "source": [
        "Use the function <code>con</code> for the following question."
      ]
    },
    {
      "cell_type": "code",
      "execution_count": null,
      "id": "a313f6e7",
      "metadata": {
        "id": "a313f6e7"
      },
      "outputs": [],
      "source": [
        "# Use the con function for the following question\n",
        "\n",
        "def con(a, b):\n",
        "    return(a + b)"
      ]
    },
    {
      "cell_type": "markdown",
      "id": "aed583d5",
      "metadata": {
        "id": "aed583d5"
      },
      "source": [
        "Can the <code>con</code> function we defined before be used to add to integers or strings?"
      ]
    },
    {
      "cell_type": "code",
      "execution_count": null,
      "id": "6c93e1b5",
      "metadata": {
        "id": "6c93e1b5",
        "outputId": "28b91785-502f-4b98-93de-cdb8a186016d"
      },
      "outputs": [
        {
          "name": "stdout",
          "output_type": "stream",
          "text": [
            "hello pyton\n",
            "10\n"
          ]
        }
      ],
      "source": [
        "# 문자열 사용\n",
        "print(con('hello',' pyton'))\n",
        "\n",
        "# 정수사용\n",
        "print(con(4,6))\n"
      ]
    },
    {
      "cell_type": "markdown",
      "id": "861378b1",
      "metadata": {
        "id": "861378b1"
      },
      "source": [
        "Can the <code>con</code> function we defined before be used to concentrate a list or tuple?"
      ]
    },
    {
      "cell_type": "code",
      "execution_count": null,
      "id": "b4ba5356",
      "metadata": {
        "id": "b4ba5356",
        "outputId": "f9848f05-5213-4784-8786-3618c39ecede"
      },
      "outputs": [
        {
          "name": "stdout",
          "output_type": "stream",
          "text": [
            "['a', 3, 5, 'b', 4, 6]\n",
            "('a', 3, 5, 'b', 4, 6)\n"
          ]
        }
      ],
      "source": [
        "# list 사용\n",
        "print(con(['a',3,5],['b',4,6]))\n",
        "\n",
        "#tuple 사용\n",
        "print(con(('a',3,5),('b',4,6)))"
      ]
    }
  ],
  "metadata": {
    "kernelspec": {
      "display_name": "Python 3 (ipykernel)",
      "language": "python",
      "name": "python3"
    },
    "language_info": {
      "codemirror_mode": {
        "name": "ipython",
        "version": 3
      },
      "file_extension": ".py",
      "mimetype": "text/x-python",
      "name": "python",
      "nbconvert_exporter": "python",
      "pygments_lexer": "ipython3",
      "version": "3.11.2"
    },
    "colab": {
      "provenance": [],
      "include_colab_link": true
    }
  },
  "nbformat": 4,
  "nbformat_minor": 5
}