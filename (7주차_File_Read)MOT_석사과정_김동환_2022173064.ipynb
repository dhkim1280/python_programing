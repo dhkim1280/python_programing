{
  "cells": [
    {
      "cell_type": "markdown",
      "metadata": {
        "id": "view-in-github",
        "colab_type": "text"
      },
      "source": [
        "<a href=\"https://colab.research.google.com/github/dhkim1280/python_programing/blob/main/(7%EC%A3%BC%EC%B0%A8_File_Read)MOT_%EC%84%9D%EC%82%AC%EA%B3%BC%EC%A0%95_%EA%B9%80%EB%8F%99%ED%99%98_2022173064.ipynb\" target=\"_parent\"><img src=\"https://colab.research.google.com/assets/colab-badge.svg\" alt=\"Open In Colab\"/></a>"
      ]
    },
    {
      "cell_type": "markdown",
      "id": "4a601bab",
      "metadata": {
        "id": "4a601bab"
      },
      "source": [
        "해당 실습을 colab에서 하고 있지 않아, PC의 파일을 만들고 실습함"
      ]
    },
    {
      "cell_type": "markdown",
      "id": "5d75d94d",
      "metadata": {
        "id": "5d75d94d"
      },
      "source": [
        "<h2 id=\"read\">Reading Text Files</h2>"
      ]
    },
    {
      "cell_type": "markdown",
      "id": "2da3b81a",
      "metadata": {
        "id": "2da3b81a"
      },
      "source": [
        "One way to read or write a file in Python is to use the built-in <code>open</code> function. The <code>open</code> function provides a <b>File object</b> that contains the methods and attributes you need in order to read, save, and manipulate the file. In this notebook, we will only cover <b>.txt</b> files. The first parameter you need is the file path and the file name. An example is shown as follow:"
      ]
    },
    {
      "cell_type": "markdown",
      "id": "a46b6b3b",
      "metadata": {
        "id": "a46b6b3b"
      },
      "source": [
        "<img src=\"https://s3-api.us-geo.objectstorage.softlayer.net/cf-courses-data/CognitiveClass/PY0101EN/Chapter%204/Images/ReadOpen.png\" width=\"500\" />"
      ]
    },
    {
      "cell_type": "markdown",
      "id": "17ade96e",
      "metadata": {
        "id": "17ade96e"
      },
      "source": [
        " The mode argument is optional and the default value is <b>r</b>. In this notebook we only cover two modes: \n",
        "<ul>\n",
        "    <li><b>r</b> Read mode for reading files </li>\n",
        "    <li><b>w</b> Write mode for writing files</li>\n",
        "</ul>"
      ]
    },
    {
      "cell_type": "markdown",
      "id": "727d3876",
      "metadata": {
        "id": "727d3876"
      },
      "source": [
        "For the next example, we will use the text file <b>Example1.txt</b>. The file is shown as follow:"
      ]
    },
    {
      "cell_type": "markdown",
      "id": "e0a8aa55",
      "metadata": {
        "id": "e0a8aa55"
      },
      "source": [
        "<img src=\"https://s3-api.us-geo.objectstorage.softlayer.net/cf-courses-data/CognitiveClass/PY0101EN/Chapter%204/Images/ReadFile.png\" width=\"200\" />"
      ]
    },
    {
      "cell_type": "markdown",
      "id": "07b2462b",
      "metadata": {
        "id": "07b2462b"
      },
      "source": [
        " We read the file: "
      ]
    },
    {
      "cell_type": "code",
      "execution_count": null,
      "id": "8a8dbc84",
      "metadata": {
        "id": "8a8dbc84"
      },
      "outputs": [],
      "source": [
        "# Read the Example1.txt\n",
        "\n",
        "example1 = \"example1.txt\" \n",
        "file1 = open(example1, \"r\") #\"r\"는 example1 객체를 읽을 수 있는 상태로 만들자. "
      ]
    },
    {
      "cell_type": "markdown",
      "id": "07831b53",
      "metadata": {
        "id": "07831b53"
      },
      "source": [
        " We can view the attributes of the file."
      ]
    },
    {
      "cell_type": "markdown",
      "id": "2b8ab85e",
      "metadata": {
        "id": "2b8ab85e"
      },
      "source": [
        "The name of the file:"
      ]
    },
    {
      "cell_type": "code",
      "execution_count": null,
      "id": "eb2fe592",
      "metadata": {
        "id": "eb2fe592",
        "outputId": "07049947-8823-4f04-9503-1ecfdba03130"
      },
      "outputs": [
        {
          "data": {
            "text/plain": [
              "'example1.txt'"
            ]
          },
          "execution_count": 90,
          "metadata": {},
          "output_type": "execute_result"
        }
      ],
      "source": [
        "# Print the path of file\n",
        "\n",
        "file1.name"
      ]
    },
    {
      "cell_type": "markdown",
      "id": "94cfc0e3",
      "metadata": {
        "id": "94cfc0e3"
      },
      "source": [
        " The mode the file object is in:"
      ]
    },
    {
      "cell_type": "code",
      "execution_count": null,
      "id": "bd041d75",
      "metadata": {
        "id": "bd041d75",
        "outputId": "8ff281aa-4ceb-4b02-8976-a42037d6f29b"
      },
      "outputs": [
        {
          "data": {
            "text/plain": [
              "'r'"
            ]
          },
          "execution_count": 91,
          "metadata": {},
          "output_type": "execute_result"
        }
      ],
      "source": [
        "# Print the mode of file, either 'r' or 'w'\n",
        "\n",
        "file1.mode"
      ]
    },
    {
      "cell_type": "markdown",
      "id": "4d6eaec7",
      "metadata": {
        "id": "4d6eaec7"
      },
      "source": [
        "We can read the file and assign it to a variable :"
      ]
    },
    {
      "cell_type": "code",
      "execution_count": null,
      "id": "80a81a29",
      "metadata": {
        "id": "80a81a29",
        "outputId": "b7ad2130-2486-4bf9-c3bf-b186dbcba90c"
      },
      "outputs": [
        {
          "data": {
            "text/plain": [
              "'This is line 1\\nThis is line 2\\nThis is line 3\\n(empty)\\nThis is line 4\\n\\n'"
            ]
          },
          "execution_count": 92,
          "metadata": {},
          "output_type": "execute_result"
        }
      ],
      "source": [
        "# Read the file\n",
        "\n",
        "FileContent = file1.read()\n",
        "FileContent"
      ]
    },
    {
      "cell_type": "markdown",
      "id": "12bf8cdb",
      "metadata": {
        "id": "12bf8cdb"
      },
      "source": [
        "The <b>\\n</b> means that there is a new line. "
      ]
    },
    {
      "cell_type": "markdown",
      "id": "b162662c",
      "metadata": {
        "id": "b162662c"
      },
      "source": [
        "We can print the file: "
      ]
    },
    {
      "cell_type": "code",
      "execution_count": null,
      "id": "3dcea6d1",
      "metadata": {
        "id": "3dcea6d1",
        "outputId": "64be57ae-1928-4068-837f-db2f8a4555e4"
      },
      "outputs": [
        {
          "name": "stdout",
          "output_type": "stream",
          "text": [
            "This is line 1\n",
            "This is line 2\n",
            "This is line 3\n",
            "(empty)\n",
            "This is line 4\n",
            "\n",
            "\n"
          ]
        }
      ],
      "source": [
        "# Print the file with '\\n' as a new line\n",
        "\n",
        "print(FileContent)"
      ]
    },
    {
      "cell_type": "markdown",
      "id": "dd0389fa",
      "metadata": {
        "id": "dd0389fa"
      },
      "source": [
        "The file is of type string:"
      ]
    },
    {
      "cell_type": "code",
      "execution_count": null,
      "id": "b31b667d",
      "metadata": {
        "id": "b31b667d",
        "outputId": "141f2013-f5aa-40bf-99e4-4c4dcc13f331"
      },
      "outputs": [
        {
          "data": {
            "text/plain": [
              "str"
            ]
          },
          "execution_count": 94,
          "metadata": {},
          "output_type": "execute_result"
        }
      ],
      "source": [
        "# Type of file content\n",
        "\n",
        "type(FileContent)"
      ]
    },
    {
      "cell_type": "markdown",
      "id": "1912618a",
      "metadata": {
        "id": "1912618a"
      },
      "source": [
        " We must close the file object:"
      ]
    },
    {
      "cell_type": "code",
      "execution_count": null,
      "id": "bc9fc1a6",
      "metadata": {
        "id": "bc9fc1a6"
      },
      "outputs": [],
      "source": [
        "# Close file after finish\n",
        "\n",
        "file1.close()"
      ]
    },
    {
      "cell_type": "markdown",
      "id": "c892fb83",
      "metadata": {
        "id": "c892fb83"
      },
      "source": [
        "<hr>"
      ]
    },
    {
      "cell_type": "markdown",
      "id": "04b3cfb6",
      "metadata": {
        "id": "04b3cfb6"
      },
      "source": [
        "<h2 id=\"better\">A Better Way to Open a File</h2>"
      ]
    },
    {
      "cell_type": "markdown",
      "id": "d8f4cdbb",
      "metadata": {
        "id": "d8f4cdbb"
      },
      "source": [
        "Using the <code>with</code> statement is better practice, it automatically closes the file even if the code encounters an exception. The code will run everything in the indent block then close the file object. "
      ]
    },
    {
      "cell_type": "code",
      "execution_count": null,
      "id": "e7d7e2f0",
      "metadata": {
        "id": "e7d7e2f0",
        "outputId": "1fc55fc3-6dff-4e1e-ad7d-485f4d19e379"
      },
      "outputs": [
        {
          "name": "stdout",
          "output_type": "stream",
          "text": [
            "This is line 1\n",
            "This is line 2\n",
            "This is line 3\n",
            "(empty)\n",
            "This is line 4\n",
            "\n",
            "\n"
          ]
        }
      ],
      "source": [
        "# Open file using with\n",
        "\n",
        "with open(example1, \"r\") as file1:\n",
        "    FileContent = file1.read()\n",
        "    print(FileContent)"
      ]
    },
    {
      "cell_type": "markdown",
      "id": "3768a215",
      "metadata": {
        "id": "3768a215"
      },
      "source": [
        "The file object is closed, you can verify it by running the following cell:  "
      ]
    },
    {
      "cell_type": "code",
      "execution_count": null,
      "id": "bc42bde8",
      "metadata": {
        "id": "bc42bde8",
        "outputId": "8b94b393-35e7-4b85-c36e-0cf26ad282b8"
      },
      "outputs": [
        {
          "data": {
            "text/plain": [
              "True"
            ]
          },
          "execution_count": 97,
          "metadata": {},
          "output_type": "execute_result"
        }
      ],
      "source": [
        "# Verify if the file is closed\n",
        "\n",
        "file1.closed"
      ]
    },
    {
      "cell_type": "markdown",
      "id": "ddd30212",
      "metadata": {
        "id": "ddd30212"
      },
      "source": [
        " We can see the info in the file:"
      ]
    },
    {
      "cell_type": "code",
      "execution_count": null,
      "id": "6e0253a4",
      "metadata": {
        "id": "6e0253a4",
        "outputId": "6016aee3-20e3-48bc-8a86-e177a9e8078e"
      },
      "outputs": [
        {
          "name": "stdout",
          "output_type": "stream",
          "text": [
            "This is line 1\n",
            "This is line 2\n",
            "This is line 3\n",
            "(empty)\n",
            "This is line 4\n",
            "\n",
            "\n"
          ]
        }
      ],
      "source": [
        "# See the content of file\n",
        "\n",
        "print(FileContent)"
      ]
    },
    {
      "cell_type": "markdown",
      "id": "018fe148",
      "metadata": {
        "id": "018fe148"
      },
      "source": [
        "The syntax is a little confusing as the file object is after the <code>as</code> statement. We also don’t explicitly close the file. Therefore we summarize the steps in a figure:"
      ]
    },
    {
      "cell_type": "markdown",
      "id": "ba46d58d",
      "metadata": {
        "id": "ba46d58d"
      },
      "source": [
        "<img src=\"https://s3-api.us-geo.objectstorage.softlayer.net/cf-courses-data/CognitiveClass/PY0101EN/Chapter%204/Images/ReadWith.png\" width=\"500\" />"
      ]
    },
    {
      "cell_type": "markdown",
      "id": "c1fcecbd",
      "metadata": {
        "id": "c1fcecbd"
      },
      "source": [
        "We don’t have to read the entire file, for example, we can read the first 4 characters by entering three as a parameter to the method **.read()**:\n"
      ]
    },
    {
      "cell_type": "code",
      "execution_count": null,
      "id": "f14a2cc3",
      "metadata": {
        "id": "f14a2cc3",
        "outputId": "d1214c27-8660-4b45-d240-f2f33c0a2d3c"
      },
      "outputs": [
        {
          "name": "stdout",
          "output_type": "stream",
          "text": [
            "This\n"
          ]
        }
      ],
      "source": [
        "# Read first four characters\n",
        "\n",
        "with open(example1, \"r\") as file1:\n",
        "    print(file1.read(4))"
      ]
    },
    {
      "cell_type": "markdown",
      "id": "88c48cd0",
      "metadata": {
        "id": "88c48cd0"
      },
      "source": [
        "Once the method <code>.read(4)</code> is called the first 4 characters are called. If we call the method again, the next 4 characters are called. The output for the following cell will demonstrate the process for different inputs to the method <code>read()</code>:"
      ]
    },
    {
      "cell_type": "code",
      "execution_count": null,
      "id": "057a5fcc",
      "metadata": {
        "id": "057a5fcc",
        "outputId": "2cc0da57-6c16-4f8e-f4b6-57eebfd8dfc3"
      },
      "outputs": [
        {
          "name": "stdout",
          "output_type": "stream",
          "text": [
            "This\n",
            " is \n",
            "line 1\n",
            "\n",
            "This is line 2\n",
            "\n"
          ]
        }
      ],
      "source": [
        "# Read certain amount of characters\n",
        "\n",
        "with open(example1, \"r\") as file1:\n",
        "    print(file1.read(4))\n",
        "    print(file1.read(4))\n",
        "    print(file1.read(7))\n",
        "    print(file1.read(15))"
      ]
    },
    {
      "cell_type": "markdown",
      "id": "df1e5050",
      "metadata": {
        "id": "df1e5050"
      },
      "source": [
        "The process is illustrated in the below figure, and each color represents the part of the file read after the method <code>read()</code> is called:"
      ]
    },
    {
      "cell_type": "markdown",
      "id": "32577563",
      "metadata": {
        "id": "32577563"
      },
      "source": [
        "<img src=\"https://s3-api.us-geo.objectstorage.softlayer.net/cf-courses-data/CognitiveClass/PY0101EN/Chapter%204/Images/ReadChar.png\" width=\"500\" />"
      ]
    },
    {
      "cell_type": "markdown",
      "id": "3e36e24f",
      "metadata": {
        "id": "3e36e24f"
      },
      "source": [
        " Here is an example using the same file, but instead we read 16, 5, and then 9 characters at a time: "
      ]
    },
    {
      "cell_type": "code",
      "execution_count": null,
      "id": "e8645b29",
      "metadata": {
        "id": "e8645b29",
        "outputId": "004f4466-41a8-439f-a5a0-4348346f668b"
      },
      "outputs": [
        {
          "name": "stdout",
          "output_type": "stream",
          "text": [
            "This is line 1\n",
            "T\n",
            "his i\n",
            "s line 2\n",
            "\n"
          ]
        }
      ],
      "source": [
        "# Read certain amount of characters\n",
        "\n",
        "with open(example1, \"r\") as file1:\n",
        "    print(file1.read(16))\n",
        "    print(file1.read(5))\n",
        "    print(file1.read(9))"
      ]
    },
    {
      "cell_type": "markdown",
      "id": "4762b784",
      "metadata": {
        "id": "4762b784"
      },
      "source": [
        "We can also read one line of the file at a time using the method <code>readline()</code>: "
      ]
    },
    {
      "cell_type": "code",
      "execution_count": null,
      "id": "a5060097",
      "metadata": {
        "id": "a5060097",
        "outputId": "bfa97c3d-8a6a-42b2-d122-fc856423b319"
      },
      "outputs": [
        {
          "name": "stdout",
          "output_type": "stream",
          "text": [
            "first line: This is line 1\n",
            "\n",
            "second line: This is line 2\n",
            "\n",
            "third line: This is line 3\n",
            "\n"
          ]
        }
      ],
      "source": [
        "# Read one line\n",
        "\n",
        "with open(example1, \"r\") as file1:\n",
        "    print(\"first line: \" + file1.readline())\n",
        "    print(\"second line: \" + file1.readline())\n",
        "    print(\"third line: \" + file1.readline())"
      ]
    },
    {
      "cell_type": "markdown",
      "id": "e8acac58",
      "metadata": {
        "id": "e8acac58"
      },
      "source": [
        " We can use a loop to iterate through each line: \n"
      ]
    },
    {
      "cell_type": "code",
      "execution_count": null,
      "id": "c9809ea9",
      "metadata": {
        "id": "c9809ea9",
        "outputId": "aa777bf2-60c2-4c13-d0ff-75bf9d30f599"
      },
      "outputs": [
        {
          "name": "stdout",
          "output_type": "stream",
          "text": [
            "Iteration 0 :  This is line 1\n",
            "\n",
            "Iteration 1 :  This is line 2\n",
            "\n",
            "Iteration 2 :  This is line 3\n",
            "\n",
            "Iteration 3 :  (empty)\n",
            "\n",
            "Iteration 4 :  This is line 4\n",
            "\n",
            "Iteration 5 :  \n",
            "\n"
          ]
        }
      ],
      "source": [
        "# Iterate through the lines\n",
        "\n",
        "with open(example1,\"r\") as file1:\n",
        "        i = 0;\n",
        "        for line in file1:\n",
        "            print(\"Iteration\", str(i), \": \", line)\n",
        "            i = i + 1;"
      ]
    },
    {
      "cell_type": "markdown",
      "id": "ab1c0aa9",
      "metadata": {
        "id": "ab1c0aa9"
      },
      "source": [
        "We can use the method <code>readlines()</code> to save the text file to a list: "
      ]
    },
    {
      "cell_type": "code",
      "execution_count": null,
      "id": "3c991320",
      "metadata": {
        "id": "3c991320"
      },
      "outputs": [],
      "source": [
        "# Read all lines and save as a list --> 자주 사용함 \n",
        "\n",
        "with open(example1, \"r\") as file1:\n",
        "    FileasList = file1.readlines()"
      ]
    },
    {
      "cell_type": "markdown",
      "id": "2b66fc11",
      "metadata": {
        "id": "2b66fc11"
      },
      "source": [
        " Each element of the list corresponds to a line of text:"
      ]
    },
    {
      "cell_type": "code",
      "execution_count": null,
      "id": "cf0a22c3",
      "metadata": {
        "id": "cf0a22c3",
        "outputId": "bb74aaaf-ee59-4b44-de30-47d5182c6c54"
      },
      "outputs": [
        {
          "data": {
            "text/plain": [
              "'This is line 1\\n'"
            ]
          },
          "execution_count": 105,
          "metadata": {},
          "output_type": "execute_result"
        }
      ],
      "source": [
        "# Print the first line\n",
        "\n",
        "FileasList[0]"
      ]
    },
    {
      "cell_type": "code",
      "execution_count": null,
      "id": "a0b7acfa",
      "metadata": {
        "id": "a0b7acfa",
        "outputId": "babe32a4-2964-4e62-f012-37e11aa79633"
      },
      "outputs": [
        {
          "data": {
            "text/plain": [
              "'This is line 2\\n'"
            ]
          },
          "execution_count": 106,
          "metadata": {},
          "output_type": "execute_result"
        }
      ],
      "source": [
        "# Print the second line\n",
        "\n",
        "FileasList[1]"
      ]
    },
    {
      "cell_type": "code",
      "execution_count": null,
      "id": "19453fc4",
      "metadata": {
        "id": "19453fc4",
        "outputId": "e7631b42-515b-4043-ea5d-ea8039ecbf9a"
      },
      "outputs": [
        {
          "data": {
            "text/plain": [
              "'This is line 3\\n'"
            ]
          },
          "execution_count": 107,
          "metadata": {},
          "output_type": "execute_result"
        }
      ],
      "source": [
        "# Print the third line\n",
        "\n",
        "FileasList[2]"
      ]
    },
    {
      "cell_type": "code",
      "execution_count": null,
      "id": "127b8c6b",
      "metadata": {
        "id": "127b8c6b",
        "outputId": "223ff7a5-2288-4994-a3d5-9bd9df22b237"
      },
      "outputs": [
        {
          "data": {
            "text/plain": [
              "'(empty)\\n'"
            ]
          },
          "execution_count": 108,
          "metadata": {},
          "output_type": "execute_result"
        }
      ],
      "source": [
        "FileasList[3]"
      ]
    },
    {
      "cell_type": "code",
      "execution_count": null,
      "id": "47e7b566",
      "metadata": {
        "id": "47e7b566",
        "outputId": "67ef5985-c3b1-4f14-fd28-0f06a865d492"
      },
      "outputs": [
        {
          "data": {
            "text/plain": [
              "'This is line 4\\n'"
            ]
          },
          "execution_count": 109,
          "metadata": {},
          "output_type": "execute_result"
        }
      ],
      "source": [
        "FileasList[4]"
      ]
    },
    {
      "cell_type": "markdown",
      "id": "2b12931c",
      "metadata": {
        "id": "2b12931c"
      },
      "source": [
        "<hr>\n",
        "<h2>The last exercise!</h2>\n",
        "<p>Congratulations, you have completed your first lesson and hands-on lab in Python. However, there is one more thing you need to do. The Data Science community encourages sharing work. The best way to share and showcase your work is to share it on GitHub. By sharing your notebook on GitHub you are not only building your reputation with fellow data scientists, but you can also show it off when applying for a job. Even though this was your first piece of work, it is never too early to start building good habits. Please submit all your exercises to Github & let the traces in our LMS, so for me to access your work\n",
        "<hr>"
      ]
    },
    {
      "cell_type": "markdown",
      "id": "d19fa1a5",
      "metadata": {
        "id": "d19fa1a5"
      },
      "source": [
        "<hr>"
      ]
    },
    {
      "cell_type": "markdown",
      "id": "61b55eb0",
      "metadata": {
        "id": "61b55eb0"
      },
      "source": [
        "<p>Copyright &copy; 2023 RYU HOKYOUNG based on 2018 IBM Developer Skills Network. This notebook and its source code are released under the terms of the <a href=\"https://cognitiveclass.ai/mit-license/\">MIT License</a>.</p>"
      ]
    }
  ],
  "metadata": {
    "kernelspec": {
      "display_name": "Python 3 (ipykernel)",
      "language": "python",
      "name": "python3"
    },
    "language_info": {
      "codemirror_mode": {
        "name": "ipython",
        "version": 3
      },
      "file_extension": ".py",
      "mimetype": "text/x-python",
      "name": "python",
      "nbconvert_exporter": "python",
      "pygments_lexer": "ipython3",
      "version": "3.11.2"
    },
    "colab": {
      "provenance": [],
      "include_colab_link": true
    }
  },
  "nbformat": 4,
  "nbformat_minor": 5
}