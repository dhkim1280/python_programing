{
  "cells": [
    {
      "cell_type": "markdown",
      "metadata": {
        "id": "view-in-github",
        "colab_type": "text"
      },
      "source": [
        "<a href=\"https://colab.research.google.com/github/dhkim1280/python_programing/blob/main/(3%EC%A3%BC%EC%B0%A8_dictionaries)MOT_%EC%84%9D%EC%82%AC%EA%B3%BC%EC%A0%95_%EA%B9%80%EB%8F%99%ED%99%98_2022173064.ipynb\" target=\"_parent\"><img src=\"https://colab.research.google.com/assets/colab-badge.svg\" alt=\"Open In Colab\"/></a>"
      ]
    },
    {
      "cell_type": "markdown",
      "id": "046213d1",
      "metadata": {
        "id": "046213d1"
      },
      "source": [
        "<b>You will need this dictionary for the next two questions:</b>"
      ]
    },
    {
      "cell_type": "code",
      "execution_count": null,
      "id": "633b31f4",
      "metadata": {
        "id": "633b31f4",
        "outputId": "f88a5252-11a0-43a1-8b2e-7630536e6032"
      },
      "outputs": [
        {
          "data": {
            "text/plain": [
              "{'The Bodyguard': '1992', 'Saturday Night Fever': '1977'}"
            ]
          },
          "execution_count": 1,
          "metadata": {},
          "output_type": "execute_result"
        }
      ],
      "source": [
        "soundtrack_dic = {\"The Bodyguard\":\"1992\", \"Saturday Night Fever\":\"1977\"}\n",
        "soundtrack_dic"
      ]
    },
    {
      "cell_type": "markdown",
      "id": "e4996557",
      "metadata": {
        "id": "e4996557"
      },
      "source": [
        "a) In the dictionary <code>soundtrack_dict</code> what are the keys ?"
      ]
    },
    {
      "cell_type": "code",
      "execution_count": null,
      "id": "fc961b85",
      "metadata": {
        "id": "fc961b85",
        "outputId": "59d4f2ad-4197-4038-b3e3-e70f8cadd4a9"
      },
      "outputs": [
        {
          "data": {
            "text/plain": [
              "dict_keys(['The Bodyguard', 'Saturday Night Fever'])"
            ]
          },
          "execution_count": 2,
          "metadata": {},
          "output_type": "execute_result"
        }
      ],
      "source": [
        "soundtrack_dic.keys()"
      ]
    },
    {
      "cell_type": "markdown",
      "id": "1cba2f40",
      "metadata": {
        "id": "1cba2f40"
      },
      "source": [
        "b) In the dictionary <code>soundtrack_dict</code> what are the values ?"
      ]
    },
    {
      "cell_type": "code",
      "execution_count": null,
      "id": "dac16a7a",
      "metadata": {
        "id": "dac16a7a",
        "outputId": "728f22cc-487c-4709-ddcb-c7492033bff9"
      },
      "outputs": [
        {
          "data": {
            "text/plain": [
              "dict_values(['1992', '1977'])"
            ]
          },
          "execution_count": 3,
          "metadata": {},
          "output_type": "execute_result"
        }
      ],
      "source": [
        "soundtrack_dic.values()"
      ]
    },
    {
      "cell_type": "markdown",
      "id": "797d73b5",
      "metadata": {
        "id": "797d73b5"
      },
      "source": [
        "<b>You will need this dictionary for the following questions:</b>"
      ]
    },
    {
      "cell_type": "markdown",
      "id": "e129c1ee",
      "metadata": {
        "id": "e129c1ee"
      },
      "source": [
        "The Albums <b>Back in Black</b>, <b>The Bodyguard</b> and <b>Thriller</b> have the following music recording sales in millions 50, 50 and 65 respectively:"
      ]
    },
    {
      "cell_type": "markdown",
      "id": "0d36ce90",
      "metadata": {
        "id": "0d36ce90"
      },
      "source": [
        "a) Create a dictionary <code>album_sales_dict</code> where the keys are the album name and the sales in millions are the values. "
      ]
    },
    {
      "cell_type": "code",
      "execution_count": null,
      "id": "21d1193e",
      "metadata": {
        "id": "21d1193e",
        "outputId": "6cd1eedd-aa28-4e88-c814-ce52a5811baa"
      },
      "outputs": [
        {
          "name": "stdout",
          "output_type": "stream",
          "text": [
            "{'The Bodyguard': 50, 'Back in Black': 50, 'Thriller': 65}\n"
          ]
        }
      ],
      "source": [
        "album_sales_dict = {\"The Bodyguard\":50, \"Back in Black\":50, \"Thriller\":65}\n",
        "print(album_sales_dict)"
      ]
    },
    {
      "cell_type": "markdown",
      "id": "82b3f1a5",
      "metadata": {
        "id": "82b3f1a5"
      },
      "source": [
        "b) Use the dictionary to find the total sales of <b>Thriller</b>:"
      ]
    },
    {
      "cell_type": "code",
      "execution_count": null,
      "id": "d9673ba1",
      "metadata": {
        "id": "d9673ba1",
        "outputId": "c3cc3ffa-5671-4be9-9b82-d8939e78fb38"
      },
      "outputs": [
        {
          "data": {
            "text/plain": [
              "65"
            ]
          },
          "execution_count": 9,
          "metadata": {},
          "output_type": "execute_result"
        }
      ],
      "source": [
        "album_sales_dict[\"Thriller\"]"
      ]
    },
    {
      "cell_type": "markdown",
      "id": "4fa35eb3",
      "metadata": {
        "id": "4fa35eb3"
      },
      "source": [
        "c) Find the names of the albums from the dictionary using the method <code>keys</code>:"
      ]
    },
    {
      "cell_type": "code",
      "execution_count": null,
      "id": "96673593",
      "metadata": {
        "id": "96673593",
        "outputId": "1e178569-a04f-4911-aa14-f4e84df06eaa"
      },
      "outputs": [
        {
          "data": {
            "text/plain": [
              "dict_keys(['The Bodyguard', 'Back in Black', 'Thriller'])"
            ]
          },
          "execution_count": 10,
          "metadata": {},
          "output_type": "execute_result"
        }
      ],
      "source": [
        "album_sales_dict.keys()"
      ]
    },
    {
      "cell_type": "markdown",
      "id": "f917469c",
      "metadata": {
        "id": "f917469c"
      },
      "source": [
        "d) Find the names of the recording sales from the dictionary using the method <code>values</code>:"
      ]
    },
    {
      "cell_type": "code",
      "execution_count": null,
      "id": "4eabe140",
      "metadata": {
        "id": "4eabe140",
        "outputId": "d77c2bbb-fa18-4fda-b1d6-6625a0a46483"
      },
      "outputs": [
        {
          "data": {
            "text/plain": [
              "dict_values([50, 50, 65])"
            ]
          },
          "execution_count": 11,
          "metadata": {},
          "output_type": "execute_result"
        }
      ],
      "source": [
        "album_sales_dict.values()"
      ]
    }
  ],
  "metadata": {
    "kernelspec": {
      "display_name": "Python 3 (ipykernel)",
      "language": "python",
      "name": "python3"
    },
    "language_info": {
      "codemirror_mode": {
        "name": "ipython",
        "version": 3
      },
      "file_extension": ".py",
      "mimetype": "text/x-python",
      "name": "python",
      "nbconvert_exporter": "python",
      "pygments_lexer": "ipython3",
      "version": "3.11.2"
    },
    "colab": {
      "provenance": [],
      "include_colab_link": true
    }
  },
  "nbformat": 4,
  "nbformat_minor": 5
}