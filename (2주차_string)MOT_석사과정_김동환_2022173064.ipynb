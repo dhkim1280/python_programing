{
  "cells": [
    {
      "cell_type": "markdown",
      "metadata": {
        "id": "view-in-github",
        "colab_type": "text"
      },
      "source": [
        "<a href=\"https://colab.research.google.com/github/dhkim1280/python_programing/blob/main/(2%EC%A3%BC%EC%B0%A8_string)MOT_%EC%84%9D%EC%82%AC%EA%B3%BC%EC%A0%95_%EA%B9%80%EB%8F%99%ED%99%98_2022173064.ipynb\" target=\"_parent\"><img src=\"https://colab.research.google.com/assets/colab-badge.svg\" alt=\"Open In Colab\"/></a>"
      ]
    },
    {
      "cell_type": "markdown",
      "id": "203ff988",
      "metadata": {
        "id": "203ff988"
      },
      "source": [
        "Exercise Strings 1"
      ]
    },
    {
      "cell_type": "markdown",
      "id": "5421d75d",
      "metadata": {
        "id": "5421d75d"
      },
      "source": [
        "What is the value of the variable <code>A</code> after the following code is executed? "
      ]
    },
    {
      "cell_type": "code",
      "execution_count": null,
      "id": "0bc3337b",
      "metadata": {
        "id": "0bc3337b",
        "outputId": "6ad73dce-cd00-4904-be3a-b9c767d36616"
      },
      "outputs": [
        {
          "name": "stdout",
          "output_type": "stream",
          "text": [
            "1\n"
          ]
        }
      ],
      "source": [
        "A = \"1\"\n",
        "print(A)"
      ]
    },
    {
      "cell_type": "markdown",
      "id": "f8192804",
      "metadata": {
        "id": "f8192804"
      },
      "source": [
        "What is the value of the variable <code>B</code> after the following code is executed?"
      ]
    },
    {
      "cell_type": "code",
      "execution_count": null,
      "id": "2f57beb9",
      "metadata": {
        "id": "2f57beb9",
        "outputId": "bf63fd27-5b46-4949-fba7-18bf02342b64"
      },
      "outputs": [
        {
          "name": "stdout",
          "output_type": "stream",
          "text": [
            "2\n"
          ]
        }
      ],
      "source": [
        "B = \"2\"\n",
        "print(B)"
      ]
    },
    {
      "cell_type": "markdown",
      "id": "710d9fd2",
      "metadata": {
        "id": "710d9fd2"
      },
      "source": [
        "What is the value of the variable <code>C</code> after the following code is executed?"
      ]
    },
    {
      "cell_type": "code",
      "execution_count": null,
      "id": "885f90f4",
      "metadata": {
        "id": "885f90f4",
        "outputId": "598458c5-1711-4009-b169-cb5d15045564"
      },
      "outputs": [
        {
          "name": "stdout",
          "output_type": "stream",
          "text": [
            "12\n"
          ]
        }
      ],
      "source": [
        "C = A + B\n",
        "print(C)"
      ]
    },
    {
      "cell_type": "markdown",
      "id": "eb6742f8",
      "metadata": {
        "id": "eb6742f8"
      },
      "source": [
        "Consider the variable <code>D</code> use slicing to print out the first three elements:"
      ]
    },
    {
      "cell_type": "code",
      "execution_count": null,
      "id": "14edc94c",
      "metadata": {
        "id": "14edc94c",
        "outputId": "6e55d7e9-7525-4364-d70d-0894d17d51e9"
      },
      "outputs": [
        {
          "name": "stdout",
          "output_type": "stream",
          "text": [
            "ABC\n"
          ]
        }
      ],
      "source": [
        "D = \"ABCDEFG\"\n",
        "\n",
        "print(D[0:3])"
      ]
    },
    {
      "cell_type": "markdown",
      "id": "3c147fae",
      "metadata": {
        "id": "3c147fae"
      },
      "source": [
        "Use a stride value of 2 to print out every second character of the string <code>E</code>: "
      ]
    },
    {
      "cell_type": "code",
      "execution_count": null,
      "id": "42f8ef82",
      "metadata": {
        "id": "42f8ef82",
        "outputId": "56b92f49-08da-4fe3-b339-db256dcae574"
      },
      "outputs": [
        {
          "name": "stdout",
          "output_type": "stream",
          "text": [
            "correct\n"
          ]
        }
      ],
      "source": [
        "E = 'clocrkr1e1c1t'\n",
        "\n",
        "print(E[::2])"
      ]
    },
    {
      "cell_type": "markdown",
      "id": "06685122",
      "metadata": {
        "id": "06685122"
      },
      "source": [
        "Print out a backslash:"
      ]
    },
    {
      "cell_type": "code",
      "execution_count": null,
      "id": "9e93e864",
      "metadata": {
        "id": "9e93e864",
        "outputId": "4e69e9b2-9646-4d24-ad1f-1271acdb0150"
      },
      "outputs": [
        {
          "name": "stdout",
          "output_type": "stream",
          "text": [
            "\\\n"
          ]
        }
      ],
      "source": [
        "print(\"\\\\\")"
      ]
    },
    {
      "cell_type": "markdown",
      "id": "31249d28",
      "metadata": {
        "id": "31249d28"
      },
      "source": [
        "Convert the variable <code>F</code> to uppercase:"
      ]
    },
    {
      "cell_type": "code",
      "execution_count": null,
      "id": "2fbba75e",
      "metadata": {
        "id": "2fbba75e",
        "outputId": "63d2ff05-f128-4d4a-c352-d6d291e76978"
      },
      "outputs": [
        {
          "name": "stdout",
          "output_type": "stream",
          "text": [
            "YOU ARE WRONG\n"
          ]
        }
      ],
      "source": [
        "F = \"You are wrong\"\n",
        "print(F.upper())"
      ]
    },
    {
      "cell_type": "markdown",
      "id": "1da3ae37",
      "metadata": {
        "id": "1da3ae37"
      },
      "source": [
        "Consider the variable <code>G</code>, and find the first index of the sub-string <code>snow</code>:"
      ]
    },
    {
      "cell_type": "code",
      "execution_count": null,
      "id": "d25ed9c8",
      "metadata": {
        "id": "d25ed9c8",
        "outputId": "be24d0b3-420a-43fb-aa65-bd1498b29d2e"
      },
      "outputs": [
        {
          "name": "stdout",
          "output_type": "stream",
          "text": [
            "95\n"
          ]
        }
      ],
      "source": [
        "G = \"Mary had a little lamb Little lamb, little lamb Mary had a little lamb \\\n",
        "Its fleece was white as snow And everywhere that Mary went Mary went, Mary went \\\n",
        "Everywhere that Mary went The lamb was sure to go\"\n",
        "\n",
        "print(G.find(\"snow\"))"
      ]
    },
    {
      "cell_type": "markdown",
      "id": "a6bc55e7",
      "metadata": {
        "id": "a6bc55e7"
      },
      "source": [
        "In the variable <code>G</code>, replace the sub-string <code>Mary</code> with <code>Bob</code>:"
      ]
    },
    {
      "cell_type": "code",
      "execution_count": null,
      "id": "8f4932a4",
      "metadata": {
        "id": "8f4932a4",
        "outputId": "8462befe-cb69-4b8e-9c18-57f640d7be20"
      },
      "outputs": [
        {
          "name": "stdout",
          "output_type": "stream",
          "text": [
            "Bob had a little lamb Little lamb, little lamb Bob had a little lamb Its fleece was white as snow And everywhere that Bob went Bob went, Bob went Everywhere that Bob went The lamb was sure to go\n"
          ]
        }
      ],
      "source": [
        "print(G.replace(\"Mary\", \"Bob\"))"
      ]
    }
  ],
  "metadata": {
    "kernelspec": {
      "display_name": "Python 3 (ipykernel)",
      "language": "python",
      "name": "python3"
    },
    "language_info": {
      "codemirror_mode": {
        "name": "ipython",
        "version": 3
      },
      "file_extension": ".py",
      "mimetype": "text/x-python",
      "name": "python",
      "nbconvert_exporter": "python",
      "pygments_lexer": "ipython3",
      "version": "3.11.2"
    },
    "colab": {
      "provenance": [],
      "include_colab_link": true
    }
  },
  "nbformat": 4,
  "nbformat_minor": 5
}