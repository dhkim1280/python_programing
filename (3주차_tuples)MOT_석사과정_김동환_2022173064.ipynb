{
  "cells": [
    {
      "cell_type": "markdown",
      "metadata": {
        "id": "view-in-github",
        "colab_type": "text"
      },
      "source": [
        "<a href=\"https://colab.research.google.com/github/dhkim1280/python_programing/blob/main/(3%EC%A3%BC%EC%B0%A8_tuples)MOT_%EC%84%9D%EC%82%AC%EA%B3%BC%EC%A0%95_%EA%B9%80%EB%8F%99%ED%99%98_2022173064.ipynb\" target=\"_parent\"><img src=\"https://colab.research.google.com/assets/colab-badge.svg\" alt=\"Open In Colab\"/></a>"
      ]
    },
    {
      "cell_type": "markdown",
      "id": "e7e122c0",
      "metadata": {
        "id": "e7e122c0"
      },
      "source": [
        "Consider the following tuple:"
      ]
    },
    {
      "cell_type": "code",
      "execution_count": null,
      "id": "bd057f62",
      "metadata": {
        "id": "bd057f62",
        "outputId": "83353bcf-5bdd-4f67-bc54-ef41811d3f64"
      },
      "outputs": [
        {
          "data": {
            "text/plain": [
              "('pop',\n",
              " 'rock',\n",
              " 'soul',\n",
              " 'hard rock',\n",
              " 'soft rock',\n",
              " 'R&B',\n",
              " 'progressive rock',\n",
              " 'disco')"
            ]
          },
          "execution_count": 17,
          "metadata": {},
          "output_type": "execute_result"
        }
      ],
      "source": [
        "# sample tuple\n",
        "\n",
        "genres_tuple = (\"pop\", \"rock\", \"soul\", \"hard rock\", \"soft rock\", \n",
        "                \"R&B\", \"progressive rock\", \"disco\") \n",
        "genres_tuple"
      ]
    },
    {
      "cell_type": "markdown",
      "id": "ff4a7938",
      "metadata": {
        "id": "ff4a7938"
      },
      "source": [
        "Find the length of the tuple, <code>genres_tuple</code>:"
      ]
    },
    {
      "cell_type": "code",
      "execution_count": null,
      "id": "6c09648d",
      "metadata": {
        "id": "6c09648d",
        "outputId": "a179acb0-9b0f-45d1-eaac-ad198713d25c"
      },
      "outputs": [
        {
          "data": {
            "text/plain": [
              "8"
            ]
          },
          "execution_count": 18,
          "metadata": {},
          "output_type": "execute_result"
        }
      ],
      "source": [
        "len(genres_tuple)"
      ]
    },
    {
      "cell_type": "markdown",
      "id": "8b54bba6",
      "metadata": {
        "id": "8b54bba6"
      },
      "source": [
        "Access the element, with respect to index 3: "
      ]
    },
    {
      "cell_type": "code",
      "execution_count": null,
      "id": "55efbcda",
      "metadata": {
        "id": "55efbcda",
        "outputId": "e6854d8e-8d9c-435f-e51c-0dd76ca4d0b8"
      },
      "outputs": [
        {
          "data": {
            "text/plain": [
              "'hard rock'"
            ]
          },
          "execution_count": 19,
          "metadata": {},
          "output_type": "execute_result"
        }
      ],
      "source": [
        "genres_tuple[3]"
      ]
    },
    {
      "cell_type": "markdown",
      "id": "e267676e",
      "metadata": {
        "id": "e267676e"
      },
      "source": [
        "Use slicing to obtain indexes 3, 4 and 5:"
      ]
    },
    {
      "cell_type": "code",
      "execution_count": null,
      "id": "15962bea",
      "metadata": {
        "id": "15962bea",
        "outputId": "be87aa07-ae00-4268-a1db-52ca641bfe6d"
      },
      "outputs": [
        {
          "data": {
            "text/plain": [
              "('hard rock', 'soft rock', 'R&B')"
            ]
          },
          "execution_count": 20,
          "metadata": {},
          "output_type": "execute_result"
        }
      ],
      "source": [
        "genres_tuple[3:6]"
      ]
    },
    {
      "cell_type": "markdown",
      "id": "6a6541b3",
      "metadata": {
        "id": "6a6541b3"
      },
      "source": [
        "Find the first two elements of the tuple <code>genres_tuple</code>:"
      ]
    },
    {
      "cell_type": "code",
      "execution_count": null,
      "id": "a3dc0682",
      "metadata": {
        "id": "a3dc0682",
        "outputId": "ff3e4a60-5602-4e77-ef5c-2afa0d8ac553"
      },
      "outputs": [
        {
          "data": {
            "text/plain": [
              "('pop', 'rock')"
            ]
          },
          "execution_count": 21,
          "metadata": {},
          "output_type": "execute_result"
        }
      ],
      "source": [
        "genres_tuple[0:2]"
      ]
    },
    {
      "cell_type": "markdown",
      "id": "71820c27",
      "metadata": {
        "id": "71820c27"
      },
      "source": [
        "Find the first index of <code>\"disco\"</code>:"
      ]
    },
    {
      "cell_type": "code",
      "execution_count": null,
      "id": "ff21e501",
      "metadata": {
        "id": "ff21e501",
        "outputId": "3f59a49f-0111-403b-fb96-290f8994dbcf"
      },
      "outputs": [
        {
          "data": {
            "text/plain": [
              "7"
            ]
          },
          "execution_count": 22,
          "metadata": {},
          "output_type": "execute_result"
        }
      ],
      "source": [
        "genres_tuple.index(\"disco\")"
      ]
    },
    {
      "cell_type": "markdown",
      "id": "9a7c8d12",
      "metadata": {
        "id": "9a7c8d12"
      },
      "source": [
        "Generate a sorted List from the Tuple <code>C_tuple=(-5, 1, -3)</code>:"
      ]
    },
    {
      "cell_type": "code",
      "execution_count": null,
      "id": "cb52fab5",
      "metadata": {
        "id": "cb52fab5",
        "outputId": "9fb8bd76-de0c-450f-e5f1-a6d3f1ce90b3"
      },
      "outputs": [
        {
          "name": "stdout",
          "output_type": "stream",
          "text": [
            "[-5, -3, 1]\n"
          ]
        }
      ],
      "source": [
        "C_tuple=(-5, 1, -3)\n",
        "C_tuple = sorted(C_tuple)\n",
        "print(C_tuple)\n"
      ]
    }
  ],
  "metadata": {
    "kernelspec": {
      "display_name": "Python 3 (ipykernel)",
      "language": "python",
      "name": "python3"
    },
    "language_info": {
      "codemirror_mode": {
        "name": "ipython",
        "version": 3
      },
      "file_extension": ".py",
      "mimetype": "text/x-python",
      "name": "python",
      "nbconvert_exporter": "python",
      "pygments_lexer": "ipython3",
      "version": "3.11.2"
    },
    "colab": {
      "provenance": [],
      "include_colab_link": true
    }
  },
  "nbformat": 4,
  "nbformat_minor": 5
}