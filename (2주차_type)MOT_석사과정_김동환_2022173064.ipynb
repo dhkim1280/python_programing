{
  "cells": [
    {
      "cell_type": "markdown",
      "metadata": {
        "id": "view-in-github",
        "colab_type": "text"
      },
      "source": [
        "<a href=\"https://colab.research.google.com/github/dhkim1280/python_programing/blob/main/(2%EC%A3%BC%EC%B0%A8_type)MOT_%EC%84%9D%EC%82%AC%EA%B3%BC%EC%A0%95_%EA%B9%80%EB%8F%99%ED%99%98_2022173064.ipynb\" target=\"_parent\"><img src=\"https://colab.research.google.com/assets/colab-badge.svg\" alt=\"Open In Colab\"/></a>"
      ]
    },
    {
      "cell_type": "markdown",
      "id": "5a193761",
      "metadata": {
        "id": "5a193761"
      },
      "source": [
        "Exercise 1 (Types) : Your First Program"
      ]
    },
    {
      "cell_type": "markdown",
      "id": "7d11cc38",
      "metadata": {
        "id": "7d11cc38"
      },
      "source": [
        "Generations of programmers have started their coding careers by simply printing \"Hello, world!\". You will be following in their footsteps.\n",
        "\n",
        "In the code cell below, use the print() function to print out the phrase: Hello, world!"
      ]
    },
    {
      "cell_type": "code",
      "execution_count": null,
      "id": "ced7e847",
      "metadata": {
        "id": "ced7e847",
        "outputId": "458b853d-28c4-4848-eed2-30a0ce88aa7e"
      },
      "outputs": [
        {
          "name": "stdout",
          "output_type": "stream",
          "text": [
            "Hello, world!\n"
          ]
        }
      ],
      "source": [
        "print(\"Hello, world!\")"
      ]
    },
    {
      "cell_type": "code",
      "execution_count": null,
      "id": "f753b730",
      "metadata": {
        "id": "f753b730",
        "outputId": "09ba810c-e2a4-4b37-ff24-071df7111656"
      },
      "outputs": [
        {
          "name": "stdout",
          "output_type": "stream",
          "text": [
            "Hello, world!\n"
          ]
        }
      ],
      "source": [
        "print(\"Hello, world!\") # Print the traditional hello world"
      ]
    },
    {
      "cell_type": "markdown",
      "id": "2a444ac9",
      "metadata": {
        "id": "2a444ac9"
      },
      "source": [
        "Exercise 2 (Types) : Get the object type"
      ]
    },
    {
      "cell_type": "markdown",
      "id": "33797422",
      "metadata": {
        "id": "33797422"
      },
      "source": [
        "<p>In the code cell below, use the <code>type()</code> function to check the object type of <code>12.0</code>."
      ]
    },
    {
      "cell_type": "code",
      "execution_count": null,
      "id": "7b360972",
      "metadata": {
        "id": "7b360972",
        "outputId": "f5f512ca-d1c5-4bb2-a160-8d534ccfc090"
      },
      "outputs": [
        {
          "data": {
            "text/plain": [
              "float"
            ]
          },
          "execution_count": 3,
          "metadata": {},
          "output_type": "execute_result"
        }
      ],
      "source": [
        "type(12.0)"
      ]
    },
    {
      "cell_type": "markdown",
      "id": "f37a61f5",
      "metadata": {
        "id": "f37a61f5"
      },
      "source": [
        "Exercise 3 (Types): Types"
      ]
    },
    {
      "cell_type": "markdown",
      "id": "3baa47f8",
      "metadata": {
        "id": "3baa47f8"
      },
      "source": [
        "<p>What is the data type of the result of: <code>6 / 2</code>?</p>"
      ]
    },
    {
      "cell_type": "code",
      "execution_count": null,
      "id": "e3f81803",
      "metadata": {
        "id": "e3f81803",
        "outputId": "06397106-f8bf-4635-d949-ff2e6a5837ab"
      },
      "outputs": [
        {
          "data": {
            "text/plain": [
              "3.0"
            ]
          },
          "execution_count": 4,
          "metadata": {},
          "output_type": "execute_result"
        }
      ],
      "source": [
        "6 / 2"
      ]
    },
    {
      "cell_type": "markdown",
      "id": "df4694e2",
      "metadata": {
        "id": "df4694e2"
      },
      "source": [
        "What is the type of the result of: 6 // 2? (Note the double slash //.)"
      ]
    },
    {
      "cell_type": "code",
      "execution_count": null,
      "id": "9b5fecf1",
      "metadata": {
        "id": "9b5fecf1",
        "outputId": "24b04f86-3f68-46c9-dab4-be026f10063f"
      },
      "outputs": [
        {
          "data": {
            "text/plain": [
              "3"
            ]
          },
          "execution_count": 5,
          "metadata": {},
          "output_type": "execute_result"
        }
      ],
      "source": [
        "6 // 2"
      ]
    },
    {
      "cell_type": "markdown",
      "id": "e42576f1",
      "metadata": {
        "id": "e42576f1"
      },
      "source": [
        "Exercise 4 (Types): Expression"
      ]
    },
    {
      "cell_type": "markdown",
      "id": "e5dd84c3",
      "metadata": {
        "id": "e5dd84c3"
      },
      "source": [
        "Let's write an expression that calculates how many hours there are in 160 minutes:"
      ]
    },
    {
      "cell_type": "code",
      "execution_count": null,
      "id": "5d4f4be2",
      "metadata": {
        "id": "5d4f4be2",
        "outputId": "4851e72e-3a86-415a-a913-441202f5bd67"
      },
      "outputs": [
        {
          "data": {
            "text/plain": [
              "2.6666666666666665"
            ]
          },
          "execution_count": 6,
          "metadata": {},
          "output_type": "execute_result"
        }
      ],
      "source": [
        "160/60"
      ]
    },
    {
      "cell_type": "code",
      "execution_count": null,
      "id": "bf2fcced",
      "metadata": {
        "id": "bf2fcced",
        "outputId": "267c4d55-18e9-4649-cc40-7570eb74d2e3"
      },
      "outputs": [
        {
          "data": {
            "text/plain": [
              "2"
            ]
          },
          "execution_count": 7,
          "metadata": {},
          "output_type": "execute_result"
        }
      ],
      "source": [
        "160//60 "
      ]
    },
    {
      "cell_type": "markdown",
      "id": "b038ad52",
      "metadata": {
        "id": "b038ad52"
      },
      "source": [
        "<p>Python follows well accepted mathematical conventions when evaluating mathematical expressions. In the following example, Python adds 30 to the result of the multiplication (i.e., 120)."
      ]
    },
    {
      "cell_type": "code",
      "execution_count": null,
      "id": "d448e32b",
      "metadata": {
        "id": "d448e32b",
        "outputId": "b5b20854-2f44-466f-aba6-d733eebeacdf"
      },
      "outputs": [
        {
          "data": {
            "text/plain": [
              "150"
            ]
          },
          "execution_count": 8,
          "metadata": {},
          "output_type": "execute_result"
        }
      ],
      "source": [
        "30 + 2 * 60"
      ]
    },
    {
      "cell_type": "markdown",
      "id": "65519340",
      "metadata": {
        "id": "65519340"
      },
      "source": [
        "<p>And just like mathematics, expressions enclosed in parentheses have priority. So the following multiplies 32 by 60."
      ]
    },
    {
      "cell_type": "code",
      "execution_count": null,
      "id": "312b57a4",
      "metadata": {
        "id": "312b57a4",
        "outputId": "81b047cd-b5a4-4fd5-e195-07836951bd66"
      },
      "outputs": [
        {
          "data": {
            "text/plain": [
              "1920"
            ]
          },
          "execution_count": 9,
          "metadata": {},
          "output_type": "execute_result"
        }
      ],
      "source": [
        "(30 + 2) * 60"
      ]
    },
    {
      "cell_type": "markdown",
      "id": "8cde6b81",
      "metadata": {
        "id": "8cde6b81"
      },
      "source": [
        "Exercise 5 (Types): Expression and Variables in Python"
      ]
    },
    {
      "cell_type": "markdown",
      "id": "881c0726",
      "metadata": {
        "id": "881c0726"
      },
      "source": [
        "<p>What is the value of <code>x</code> where <code>x = 3 + 2 * 2</code></p>"
      ]
    },
    {
      "cell_type": "code",
      "execution_count": null,
      "id": "b4fa604a",
      "metadata": {
        "id": "b4fa604a",
        "outputId": "fe6e4b4f-5609-4af7-c46f-16ecadb179d7"
      },
      "outputs": [
        {
          "name": "stdout",
          "output_type": "stream",
          "text": [
            "7\n"
          ]
        }
      ],
      "source": [
        "x = 3 + 2 * 2\n",
        "print(x)"
      ]
    },
    {
      "cell_type": "markdown",
      "id": "4cbc58d3",
      "metadata": {
        "id": "4cbc58d3"
      },
      "source": [
        "<p>What is the value of <code>y</code> where <code>y = (3 + 2) * 2</code>?</p>"
      ]
    },
    {
      "cell_type": "code",
      "execution_count": null,
      "id": "278e3d26",
      "metadata": {
        "id": "278e3d26",
        "outputId": "abba0054-a8c7-47a3-ef49-981b43c5e393"
      },
      "outputs": [
        {
          "name": "stdout",
          "output_type": "stream",
          "text": [
            "10\n"
          ]
        }
      ],
      "source": [
        "y = (3 + 2) * 2\n",
        "print(y)"
      ]
    },
    {
      "cell_type": "markdown",
      "id": "1f85674d",
      "metadata": {
        "id": "1f85674d"
      },
      "source": [
        "What is the value of z where z = x + y?"
      ]
    },
    {
      "cell_type": "code",
      "execution_count": null,
      "id": "6a1dc679",
      "metadata": {
        "id": "6a1dc679",
        "outputId": "cc22dd80-86a9-4375-da83-1c6c0c0fe625"
      },
      "outputs": [
        {
          "name": "stdout",
          "output_type": "stream",
          "text": [
            "17\n"
          ]
        }
      ],
      "source": [
        "z = x + y\n",
        "print(z)"
      ]
    }
  ],
  "metadata": {
    "kernelspec": {
      "display_name": "Python 3 (ipykernel)",
      "language": "python",
      "name": "python3"
    },
    "language_info": {
      "codemirror_mode": {
        "name": "ipython",
        "version": 3
      },
      "file_extension": ".py",
      "mimetype": "text/x-python",
      "name": "python",
      "nbconvert_exporter": "python",
      "pygments_lexer": "ipython3",
      "version": "3.11.2"
    },
    "colab": {
      "provenance": [],
      "include_colab_link": true
    }
  },
  "nbformat": 4,
  "nbformat_minor": 5
}